{
 "cells": [
  {
   "cell_type": "markdown",
   "id": "a4c5fe2c",
   "metadata": {},
   "source": [
    "# 1. Import data"
   ]
  },
  {
   "cell_type": "markdown",
   "id": "d47abe06",
   "metadata": {},
   "source": [
    "## 1.1 Load AG News data from FastAi repo in local directory\n",
    "https://registry.opendata.aws/fast-ai-nlp/"
   ]
  },
  {
   "cell_type": "code",
   "execution_count": 1,
   "id": "ee8e756a",
   "metadata": {},
   "outputs": [],
   "source": [
    "train_file = '../news_data/train.csv'\n",
    "test_file = '../news_data/test.csv'"
   ]
  },
  {
   "cell_type": "code",
   "execution_count": 2,
   "id": "272a7070",
   "metadata": {},
   "outputs": [],
   "source": [
    "import pandas as pd\n",
    "import numpy as np\n",
    "import os"
   ]
  },
  {
   "cell_type": "code",
   "execution_count": 59,
   "id": "6c031959",
   "metadata": {},
   "outputs": [],
   "source": [
    "def load_data(file):\n",
    "    columns = ['topic', 'head', 'body']\n",
    "    df = pd.read_csv(file, header=None)\n",
    "    df.columns = columns\n",
    "    return df"
   ]
  },
  {
   "cell_type": "markdown",
   "id": "a76a5aca",
   "metadata": {},
   "source": [
    "### Combine datasets to preprocess together"
   ]
  },
  {
   "cell_type": "code",
   "execution_count": null,
   "id": "41f17f9b-d1c1-4150-a669-1b9ada00bb8e",
   "metadata": {},
   "outputs": [],
   "source": [
    "train = load_data(train_file)\n",
    "train['set'] = np.array([1,]*len(train))\n",
    "print(f'Train set: {len(train)}')\n",
    "\n",
    "test = load_data(test_file)\n",
    "test['set'] = np.array([0,]*len(test))\n",
    "print(f'Test set: {len(test)}')\n",
    "\n",
    "ratio = round(len(test)/(len(train)+len(test)), 3)\n",
    "print(f'Test size ratio = {ratio}')\n",
    "df = pd.concat([train, test])"
   ]
  },
  {
   "cell_type": "code",
   "execution_count": 5,
   "id": "13f39e8b",
   "metadata": {},
   "outputs": [
    {
     "data": {
      "text/html": [
       "<div>\n",
       "<style scoped>\n",
       "    .dataframe tbody tr th:only-of-type {\n",
       "        vertical-align: middle;\n",
       "    }\n",
       "\n",
       "    .dataframe tbody tr th {\n",
       "        vertical-align: top;\n",
       "    }\n",
       "\n",
       "    .dataframe thead th {\n",
       "        text-align: right;\n",
       "    }\n",
       "</style>\n",
       "<table border=\"1\" class=\"dataframe\">\n",
       "  <thead>\n",
       "    <tr style=\"text-align: right;\">\n",
       "      <th></th>\n",
       "      <th>topic</th>\n",
       "      <th>head</th>\n",
       "      <th>body</th>\n",
       "      <th>set</th>\n",
       "    </tr>\n",
       "  </thead>\n",
       "  <tbody>\n",
       "    <tr>\n",
       "      <th>0</th>\n",
       "      <td>3</td>\n",
       "      <td>Wall St. Bears Claw Back Into the Black (Reuters)</td>\n",
       "      <td>Reuters - Short-sellers, Wall Street's dwindli...</td>\n",
       "      <td>1</td>\n",
       "    </tr>\n",
       "    <tr>\n",
       "      <th>1</th>\n",
       "      <td>3</td>\n",
       "      <td>Carlyle Looks Toward Commercial Aerospace (Reu...</td>\n",
       "      <td>Reuters - Private investment firm Carlyle Grou...</td>\n",
       "      <td>1</td>\n",
       "    </tr>\n",
       "    <tr>\n",
       "      <th>2</th>\n",
       "      <td>3</td>\n",
       "      <td>Oil and Economy Cloud Stocks' Outlook (Reuters)</td>\n",
       "      <td>Reuters - Soaring crude prices plus worries\\ab...</td>\n",
       "      <td>1</td>\n",
       "    </tr>\n",
       "    <tr>\n",
       "      <th>3</th>\n",
       "      <td>3</td>\n",
       "      <td>Iraq Halts Oil Exports from Main Southern Pipe...</td>\n",
       "      <td>Reuters - Authorities have halted oil export\\f...</td>\n",
       "      <td>1</td>\n",
       "    </tr>\n",
       "    <tr>\n",
       "      <th>4</th>\n",
       "      <td>3</td>\n",
       "      <td>Oil prices soar to all-time record, posing new...</td>\n",
       "      <td>AFP - Tearaway world oil prices, toppling reco...</td>\n",
       "      <td>1</td>\n",
       "    </tr>\n",
       "  </tbody>\n",
       "</table>\n",
       "</div>"
      ],
      "text/plain": [
       "   topic                                               head  \\\n",
       "0      3  Wall St. Bears Claw Back Into the Black (Reuters)   \n",
       "1      3  Carlyle Looks Toward Commercial Aerospace (Reu...   \n",
       "2      3    Oil and Economy Cloud Stocks' Outlook (Reuters)   \n",
       "3      3  Iraq Halts Oil Exports from Main Southern Pipe...   \n",
       "4      3  Oil prices soar to all-time record, posing new...   \n",
       "\n",
       "                                                body  set  \n",
       "0  Reuters - Short-sellers, Wall Street's dwindli...    1  \n",
       "1  Reuters - Private investment firm Carlyle Grou...    1  \n",
       "2  Reuters - Soaring crude prices plus worries\\ab...    1  \n",
       "3  Reuters - Authorities have halted oil export\\f...    1  \n",
       "4  AFP - Tearaway world oil prices, toppling reco...    1  "
      ]
     },
     "execution_count": 5,
     "metadata": {},
     "output_type": "execute_result"
    }
   ],
   "source": [
    "df.head()"
   ]
  },
  {
   "cell_type": "markdown",
   "id": "ce8a0ad2",
   "metadata": {},
   "source": [
    "Topic labels:\n",
    "1. World\n",
    "2. Sports\n",
    "3. Business\n",
    "4. Sci/Tech"
   ]
  },
  {
   "cell_type": "markdown",
   "id": "e3c2d9fe",
   "metadata": {},
   "source": [
    "# 2. Preprocessing news body data"
   ]
  },
  {
   "cell_type": "markdown",
   "id": "a1da83da",
   "metadata": {},
   "source": [
    "## 2.1 Remove punctuations and capitalizations"
   ]
  },
  {
   "cell_type": "markdown",
   "id": "d542a721",
   "metadata": {},
   "source": [
    "This step will be combined with the following"
   ]
  },
  {
   "cell_type": "markdown",
   "id": "d8285a44",
   "metadata": {},
   "source": [
    "## 2.2 Remove stopwords, stem words, and obtain bags of words "
   ]
  },
  {
   "cell_type": "code",
   "execution_count": 6,
   "id": "6d8e860d",
   "metadata": {},
   "outputs": [],
   "source": [
    "import re\n",
    "from nltk.corpus import stopwords\n",
    "from nltk.stem.snowball import SnowballStemmer\n",
    "\n",
    "def process_text(text):\n",
    "    sw = stopwords.words('english')  + ['reuters', 'afp']\n",
    "    stemmer = SnowballStemmer('english')\n",
    "    text = text.lower()\n",
    "    text = re.sub('[,./?!-;:]', '', text)\n",
    "    text = re.sub('\\n' , ' ' , text)\n",
    "    text = re.sub('\\\\\\\\' , ' ' , text)\n",
    "    text_list = [stemmer.stem(i) for i in text.split(' ') if i and i not in sw]\n",
    "    return {word:text_list.count(word) for word in text_list}"
   ]
  },
  {
   "cell_type": "code",
   "execution_count": 7,
   "id": "fe4ceed3",
   "metadata": {},
   "outputs": [
    {
     "data": {
      "text/html": [
       "<div>\n",
       "<style scoped>\n",
       "    .dataframe tbody tr th:only-of-type {\n",
       "        vertical-align: middle;\n",
       "    }\n",
       "\n",
       "    .dataframe tbody tr th {\n",
       "        vertical-align: top;\n",
       "    }\n",
       "\n",
       "    .dataframe thead th {\n",
       "        text-align: right;\n",
       "    }\n",
       "</style>\n",
       "<table border=\"1\" class=\"dataframe\">\n",
       "  <thead>\n",
       "    <tr style=\"text-align: right;\">\n",
       "      <th></th>\n",
       "      <th>topic</th>\n",
       "      <th>head</th>\n",
       "      <th>body</th>\n",
       "      <th>set</th>\n",
       "      <th>word_bag</th>\n",
       "    </tr>\n",
       "  </thead>\n",
       "  <tbody>\n",
       "    <tr>\n",
       "      <th>0</th>\n",
       "      <td>3</td>\n",
       "      <td>Wall St. Bears Claw Back Into the Black (Reuters)</td>\n",
       "      <td>Reuters - Short-sellers, Wall Street's dwindli...</td>\n",
       "      <td>1</td>\n",
       "      <td>{'shortsel': 1, 'wall': 1, 'street': 1, 'dwind...</td>\n",
       "    </tr>\n",
       "    <tr>\n",
       "      <th>1</th>\n",
       "      <td>3</td>\n",
       "      <td>Carlyle Looks Toward Commercial Aerospace (Reu...</td>\n",
       "      <td>Reuters - Private investment firm Carlyle Grou...</td>\n",
       "      <td>1</td>\n",
       "      <td>{'privat': 1, 'invest': 1, 'firm': 1, 'carlyl'...</td>\n",
       "    </tr>\n",
       "    <tr>\n",
       "      <th>2</th>\n",
       "      <td>3</td>\n",
       "      <td>Oil and Economy Cloud Stocks' Outlook (Reuters)</td>\n",
       "      <td>Reuters - Soaring crude prices plus worries\\ab...</td>\n",
       "      <td>1</td>\n",
       "      <td>{'soar': 1, 'crude': 1, 'price': 1, 'plus': 1,...</td>\n",
       "    </tr>\n",
       "    <tr>\n",
       "      <th>3</th>\n",
       "      <td>3</td>\n",
       "      <td>Iraq Halts Oil Exports from Main Southern Pipe...</td>\n",
       "      <td>Reuters - Authorities have halted oil export\\f...</td>\n",
       "      <td>1</td>\n",
       "      <td>{'author': 1, 'halt': 1, 'oil': 2, 'export': 1...</td>\n",
       "    </tr>\n",
       "    <tr>\n",
       "      <th>4</th>\n",
       "      <td>3</td>\n",
       "      <td>Oil prices soar to all-time record, posing new...</td>\n",
       "      <td>AFP - Tearaway world oil prices, toppling reco...</td>\n",
       "      <td>1</td>\n",
       "      <td>{'tearaway': 1, 'world': 1, 'oil': 1, 'price':...</td>\n",
       "    </tr>\n",
       "  </tbody>\n",
       "</table>\n",
       "</div>"
      ],
      "text/plain": [
       "   topic                                               head  \\\n",
       "0      3  Wall St. Bears Claw Back Into the Black (Reuters)   \n",
       "1      3  Carlyle Looks Toward Commercial Aerospace (Reu...   \n",
       "2      3    Oil and Economy Cloud Stocks' Outlook (Reuters)   \n",
       "3      3  Iraq Halts Oil Exports from Main Southern Pipe...   \n",
       "4      3  Oil prices soar to all-time record, posing new...   \n",
       "\n",
       "                                                body  set  \\\n",
       "0  Reuters - Short-sellers, Wall Street's dwindli...    1   \n",
       "1  Reuters - Private investment firm Carlyle Grou...    1   \n",
       "2  Reuters - Soaring crude prices plus worries\\ab...    1   \n",
       "3  Reuters - Authorities have halted oil export\\f...    1   \n",
       "4  AFP - Tearaway world oil prices, toppling reco...    1   \n",
       "\n",
       "                                            word_bag  \n",
       "0  {'shortsel': 1, 'wall': 1, 'street': 1, 'dwind...  \n",
       "1  {'privat': 1, 'invest': 1, 'firm': 1, 'carlyl'...  \n",
       "2  {'soar': 1, 'crude': 1, 'price': 1, 'plus': 1,...  \n",
       "3  {'author': 1, 'halt': 1, 'oil': 2, 'export': 1...  \n",
       "4  {'tearaway': 1, 'world': 1, 'oil': 1, 'price':...  "
      ]
     },
     "execution_count": 7,
     "metadata": {},
     "output_type": "execute_result"
    }
   ],
   "source": [
    "df['word_bag'] = df.body.map(process_text)\n",
    "df.head()"
   ]
  },
  {
   "cell_type": "markdown",
   "id": "e615e169",
   "metadata": {},
   "source": [
    "## 2.3 Explore text bodies"
   ]
  },
  {
   "cell_type": "code",
   "execution_count": 8,
   "id": "c9def8ad",
   "metadata": {},
   "outputs": [],
   "source": [
    "total_word_bag = {}\n",
    "for bag in df.word_bag.values:\n",
    "    for word in bag:\n",
    "        if word not in total_word_bag:\n",
    "            total_word_bag[word] = bag[word]\n",
    "        else:    \n",
    "            total_word_bag[word] += bag[word]\n",
    "total_word_bag = dict(sorted(total_word_bag.items(), key=lambda x:x[1], reverse=True))"
   ]
  },
  {
   "cell_type": "markdown",
   "id": "f7c3df5a",
   "metadata": {},
   "source": [
    "<h2 style=\"color:red;\">Could've used a word cloud but the package is not compactible with python 3.9 atm.. :(</h2>"
   ]
  },
  {
   "cell_type": "code",
   "execution_count": 9,
   "id": "cecb4787",
   "metadata": {},
   "outputs": [
    {
     "data": {
      "image/png": "[encoded data removed]",
      "text/plain": [
       "<Figure size 360x720 with 1 Axes>"
      ]
     },
     "metadata": {
      "needs_background": "light"
     },
     "output_type": "display_data"
    }
   ],
   "source": [
    "import matplotlib.pyplot as plt\n",
    "top50 = list(total_word_bag.items())[:50]\n",
    "plt.figure(figsize=[5,10])\n",
    "plt.barh(*zip(*top50))\n",
    "plt.gca().invert_yaxis()\n",
    "plt.title('Top 50 most frequently appeared words (stemmed)')\n",
    "plt.show()"
   ]
  },
  {
   "cell_type": "markdown",
   "id": "54d51de8",
   "metadata": {},
   "source": [
    "Using stopwords from NLTK, we've managed to removed quite a number of words that do not carry information like 'I', 'you', 'myself' etc.\n",
    "\n",
    "However, there are still plenty of generic looking words like 'said', 'reuter' or 'year' that can appear in all topics.\n",
    "\n",
    "It may be too difficult to identity all of these by eyeballing, but we can remove some of these words using TF-IDF method."
   ]
  },
  {
   "cell_type": "markdown",
   "id": "cbb2d7c9",
   "metadata": {},
   "source": [
    "## 2.4 Compute TF-IDF and add common words to stopword list"
   ]
  },
  {
   "cell_type": "markdown",
   "id": "a798e116-73b6-47c9-9494-5b8b9dfeb251",
   "metadata": {},
   "source": [
    "TF-IDF is a score assigned to each word in a document that meansures how frequently the word appear in the document (TF: term frequency) as well as how rare this word appears in all the other documents in the corpus (IDF: inverse document frequency)<br><br>\n",
    "For example, the term \"Dirichlet\" is probably going to appear quite frequently in a document about topic clustering, but unlikely to appear in articles in any other topics. This give the word \"Dirichlet\" a high TF-IDF value in these documents. <br><br>Alternatively, words like \"alternatively\" can indeed occur very frequently in documents about topic clustering, but it is also likely to appear in any topic, so it will have a low TF-IDF value in most documents. "
   ]
  },
  {
   "cell_type": "code",
   "execution_count": 10,
   "id": "f56d9756",
   "metadata": {},
   "outputs": [],
   "source": [
    "# from sklearn.feature_extraction.text import TfidfVectorizer\n",
    "# NOPE.. COMPUTER NOT ENOUGH MEMORY\n",
    "# Time to DIY"
   ]
  },
  {
   "cell_type": "code",
   "execution_count": 11,
   "id": "31170b42",
   "metadata": {},
   "outputs": [],
   "source": [
    "def tfidf(bag_list):\n",
    "    def getTF(bag):\n",
    "        total = float(sum(bag.values()))\n",
    "        return {word:bag[word]/total for word in bag}\n",
    "\n",
    "    def getIDF(bag_list):\n",
    "        idfs = {}\n",
    "        n = len(bag_list)\n",
    "        for bag in bag_list:\n",
    "            for word in bag:\n",
    "                if word in idfs:\n",
    "                    idfs[word] += 1\n",
    "                else:\n",
    "                    idfs[word] = 1\n",
    "        return {word:np.log(n/idfs[word]) for word in idfs}\n",
    "    \n",
    "    tfidf_list = []\n",
    "    idfs = getIDF(bag_list)\n",
    "    \n",
    "    for bag in bag_list:\n",
    "        tf = getTF(bag)\n",
    "        tfidf_list.append(\n",
    "            {word:tf[word]*idfs[word] for word in tf}\n",
    "        )\n",
    "    return tfidf_list"
   ]
  },
  {
   "cell_type": "code",
   "execution_count": 12,
   "id": "59d4f0da",
   "metadata": {},
   "outputs": [
    {
     "data": {
      "text/html": [
       "<div>\n",
       "<style scoped>\n",
       "    .dataframe tbody tr th:only-of-type {\n",
       "        vertical-align: middle;\n",
       "    }\n",
       "\n",
       "    .dataframe tbody tr th {\n",
       "        vertical-align: top;\n",
       "    }\n",
       "\n",
       "    .dataframe thead th {\n",
       "        text-align: right;\n",
       "    }\n",
       "</style>\n",
       "<table border=\"1\" class=\"dataframe\">\n",
       "  <thead>\n",
       "    <tr style=\"text-align: right;\">\n",
       "      <th></th>\n",
       "      <th>topic</th>\n",
       "      <th>head</th>\n",
       "      <th>body</th>\n",
       "      <th>set</th>\n",
       "      <th>word_bag</th>\n",
       "      <th>tfidf</th>\n",
       "    </tr>\n",
       "  </thead>\n",
       "  <tbody>\n",
       "    <tr>\n",
       "      <th>0</th>\n",
       "      <td>3</td>\n",
       "      <td>Wall St. Bears Claw Back Into the Black (Reuters)</td>\n",
       "      <td>Reuters - Short-sellers, Wall Street's dwindli...</td>\n",
       "      <td>1</td>\n",
       "      <td>{'shortsel': 1, 'wall': 1, 'street': 1, 'dwind...</td>\n",
       "      <td>{'shortsel': 1.3322554201530896, 'wall': 0.576...</td>\n",
       "    </tr>\n",
       "    <tr>\n",
       "      <th>1</th>\n",
       "      <td>3</td>\n",
       "      <td>Carlyle Looks Toward Commercial Aerospace (Reu...</td>\n",
       "      <td>Reuters - Private investment firm Carlyle Grou...</td>\n",
       "      <td>1</td>\n",
       "      <td>{'privat': 1, 'invest': 1, 'firm': 1, 'carlyl'...</td>\n",
       "      <td>{'privat': 0.26507555235565955, 'invest': 0.25...</td>\n",
       "    </tr>\n",
       "    <tr>\n",
       "      <th>2</th>\n",
       "      <td>3</td>\n",
       "      <td>Oil and Economy Cloud Stocks' Outlook (Reuters)</td>\n",
       "      <td>Reuters - Soaring crude prices plus worries\\ab...</td>\n",
       "      <td>1</td>\n",
       "      <td>{'soar': 1, 'crude': 1, 'price': 1, 'plus': 1,...</td>\n",
       "      <td>{'soar': 0.3351489679006488, 'crude': 0.281690...</td>\n",
       "    </tr>\n",
       "    <tr>\n",
       "      <th>3</th>\n",
       "      <td>3</td>\n",
       "      <td>Iraq Halts Oil Exports from Main Southern Pipe...</td>\n",
       "      <td>Reuters - Authorities have halted oil export\\f...</td>\n",
       "      <td>1</td>\n",
       "      <td>{'author': 1, 'halt': 1, 'oil': 2, 'export': 1...</td>\n",
       "      <td>{'author': 0.2317297884131842, 'halt': 0.29366...</td>\n",
       "    </tr>\n",
       "    <tr>\n",
       "      <th>4</th>\n",
       "      <td>3</td>\n",
       "      <td>Oil prices soar to all-time record, posing new...</td>\n",
       "      <td>AFP - Tearaway world oil prices, toppling reco...</td>\n",
       "      <td>1</td>\n",
       "      <td>{'tearaway': 1, 'world': 1, 'oil': 1, 'price':...</td>\n",
       "      <td>{'tearaway': 0.653147536105157, 'world': 0.156...</td>\n",
       "    </tr>\n",
       "  </tbody>\n",
       "</table>\n",
       "</div>"
      ],
      "text/plain": [
       "   topic                                               head  \\\n",
       "0      3  Wall St. Bears Claw Back Into the Black (Reuters)   \n",
       "1      3  Carlyle Looks Toward Commercial Aerospace (Reu...   \n",
       "2      3    Oil and Economy Cloud Stocks' Outlook (Reuters)   \n",
       "3      3  Iraq Halts Oil Exports from Main Southern Pipe...   \n",
       "4      3  Oil prices soar to all-time record, posing new...   \n",
       "\n",
       "                                                body  set  \\\n",
       "0  Reuters - Short-sellers, Wall Street's dwindli...    1   \n",
       "1  Reuters - Private investment firm Carlyle Grou...    1   \n",
       "2  Reuters - Soaring crude prices plus worries\\ab...    1   \n",
       "3  Reuters - Authorities have halted oil export\\f...    1   \n",
       "4  AFP - Tearaway world oil prices, toppling reco...    1   \n",
       "\n",
       "                                            word_bag  \\\n",
       "0  {'shortsel': 1, 'wall': 1, 'street': 1, 'dwind...   \n",
       "1  {'privat': 1, 'invest': 1, 'firm': 1, 'carlyl'...   \n",
       "2  {'soar': 1, 'crude': 1, 'price': 1, 'plus': 1,...   \n",
       "3  {'author': 1, 'halt': 1, 'oil': 2, 'export': 1...   \n",
       "4  {'tearaway': 1, 'world': 1, 'oil': 1, 'price':...   \n",
       "\n",
       "                                               tfidf  \n",
       "0  {'shortsel': 1.3322554201530896, 'wall': 0.576...  \n",
       "1  {'privat': 0.26507555235565955, 'invest': 0.25...  \n",
       "2  {'soar': 0.3351489679006488, 'crude': 0.281690...  \n",
       "3  {'author': 0.2317297884131842, 'halt': 0.29366...  \n",
       "4  {'tearaway': 0.653147536105157, 'world': 0.156...  "
      ]
     },
     "execution_count": 12,
     "metadata": {},
     "output_type": "execute_result"
    }
   ],
   "source": [
    "df['tfidf'] = tfidf(df.word_bag.values)\n",
    "df.head()"
   ]
  },
  {
   "cell_type": "code",
   "execution_count": 13,
   "id": "adac91f8",
   "metadata": {},
   "outputs": [
    {
     "data": {
      "image/png": "[encoded data removed]",
      "text/plain": [
       "<Figure size 432x288 with 1 Axes>"
      ]
     },
     "metadata": {
      "needs_background": "light"
     },
     "output_type": "display_data"
    }
   ],
   "source": [
    "t = [j for i in df['tfidf'].values for j in i.values()]\n",
    "plt.hist(t, bins=np.arange(0, 1.5, 0.05))\n",
    "\n",
    "n = np.percentile(t, 25)\n",
    "plt.plot([n, n],[0, 420000], 'r--', label=f'25%-ile - {n:.3f}')\n",
    "\n",
    "m = np.median(t)\n",
    "plt.plot([m, m],[0, 420000], 'y--', label=f'Median - {m:.3f}')\n",
    "\n",
    "p = np.percentile(t, 75)\n",
    "plt.plot([p, p],[0, 420000], 'b--', label=f'75%-ile - {p:.3f}')\n",
    "\n",
    "plt.legend()\n",
    "plt.title('Distribution of TF-IDF values')\n",
    "plt.xlabel('TF-IDF values')\n",
    "plt.show()"
   ]
  },
  {
   "cell_type": "markdown",
   "id": "4f12c688-07bb-462e-93a4-a5c6dd0a8d34",
   "metadata": {},
   "source": [
    "## 2.5 Dimensionality reduction: remove more words with low impact from data"
   ]
  },
  {
   "cell_type": "markdown",
   "id": "fb665806-ea2c-4c2e-8edc-4bd5b72bc3d9",
   "metadata": {},
   "source": [
    "We can reduce the number of words by keeping only the top 75%, 50%, or 25% in TF-IDF scores"
   ]
  },
  {
   "cell_type": "code",
   "execution_count": 14,
   "id": "0f69364b",
   "metadata": {},
   "outputs": [
    {
     "name": "stdout",
     "output_type": "stream",
     "text": [
      "Cut-off TF-IDF value = 0.188\n"
     ]
    },
    {
     "data": {
      "text/html": [
       "<div>\n",
       "<style scoped>\n",
       "    .dataframe tbody tr th:only-of-type {\n",
       "        vertical-align: middle;\n",
       "    }\n",
       "\n",
       "    .dataframe tbody tr th {\n",
       "        vertical-align: top;\n",
       "    }\n",
       "\n",
       "    .dataframe thead th {\n",
       "        text-align: right;\n",
       "    }\n",
       "</style>\n",
       "<table border=\"1\" class=\"dataframe\">\n",
       "  <thead>\n",
       "    <tr style=\"text-align: right;\">\n",
       "      <th></th>\n",
       "      <th>topic</th>\n",
       "      <th>head</th>\n",
       "      <th>body</th>\n",
       "      <th>set</th>\n",
       "      <th>word_bag</th>\n",
       "      <th>tfidf</th>\n",
       "    </tr>\n",
       "  </thead>\n",
       "  <tbody>\n",
       "    <tr>\n",
       "      <th>0</th>\n",
       "      <td>3</td>\n",
       "      <td>Wall St. Bears Claw Back Into the Black (Reuters)</td>\n",
       "      <td>Reuters - Short-sellers, Wall Street's dwindli...</td>\n",
       "      <td>1</td>\n",
       "      <td>{'shortsel': 1, 'wall': 1, 'street': 1, 'dwind...</td>\n",
       "      <td>{'shortsel': 1.3322554201530896, 'wall': 0.576...</td>\n",
       "    </tr>\n",
       "    <tr>\n",
       "      <th>1</th>\n",
       "      <td>3</td>\n",
       "      <td>Carlyle Looks Toward Commercial Aerospace (Reu...</td>\n",
       "      <td>Reuters - Private investment firm Carlyle Grou...</td>\n",
       "      <td>1</td>\n",
       "      <td>{'privat': 1, 'invest': 1, 'firm': 1, 'carlyl'...</td>\n",
       "      <td>{'privat': 0.26507555235565955, 'invest': 0.25...</td>\n",
       "    </tr>\n",
       "    <tr>\n",
       "      <th>2</th>\n",
       "      <td>3</td>\n",
       "      <td>Oil and Economy Cloud Stocks' Outlook (Reuters)</td>\n",
       "      <td>Reuters - Soaring crude prices plus worries\\ab...</td>\n",
       "      <td>1</td>\n",
       "      <td>{'soar': 1, 'crude': 1, 'price': 1, 'plus': 1,...</td>\n",
       "      <td>{'soar': 0.3351489679006488, 'crude': 0.281690...</td>\n",
       "    </tr>\n",
       "    <tr>\n",
       "      <th>3</th>\n",
       "      <td>3</td>\n",
       "      <td>Iraq Halts Oil Exports from Main Southern Pipe...</td>\n",
       "      <td>Reuters - Authorities have halted oil export\\f...</td>\n",
       "      <td>1</td>\n",
       "      <td>{'author': 1, 'halt': 1, 'oil': 2, 'export': 1...</td>\n",
       "      <td>{'author': 0.2317297884131842, 'halt': 0.29366...</td>\n",
       "    </tr>\n",
       "    <tr>\n",
       "      <th>4</th>\n",
       "      <td>3</td>\n",
       "      <td>Oil prices soar to all-time record, posing new...</td>\n",
       "      <td>AFP - Tearaway world oil prices, toppling reco...</td>\n",
       "      <td>1</td>\n",
       "      <td>{'tearaway': 1, 'oil': 1, 'toppl': 1, 'record'...</td>\n",
       "      <td>{'tearaway': 0.653147536105157, 'oil': 0.19002...</td>\n",
       "    </tr>\n",
       "  </tbody>\n",
       "</table>\n",
       "</div>"
      ],
      "text/plain": [
       "   topic                                               head  \\\n",
       "0      3  Wall St. Bears Claw Back Into the Black (Reuters)   \n",
       "1      3  Carlyle Looks Toward Commercial Aerospace (Reu...   \n",
       "2      3    Oil and Economy Cloud Stocks' Outlook (Reuters)   \n",
       "3      3  Iraq Halts Oil Exports from Main Southern Pipe...   \n",
       "4      3  Oil prices soar to all-time record, posing new...   \n",
       "\n",
       "                                                body  set  \\\n",
       "0  Reuters - Short-sellers, Wall Street's dwindli...    1   \n",
       "1  Reuters - Private investment firm Carlyle Grou...    1   \n",
       "2  Reuters - Soaring crude prices plus worries\\ab...    1   \n",
       "3  Reuters - Authorities have halted oil export\\f...    1   \n",
       "4  AFP - Tearaway world oil prices, toppling reco...    1   \n",
       "\n",
       "                                            word_bag  \\\n",
       "0  {'shortsel': 1, 'wall': 1, 'street': 1, 'dwind...   \n",
       "1  {'privat': 1, 'invest': 1, 'firm': 1, 'carlyl'...   \n",
       "2  {'soar': 1, 'crude': 1, 'price': 1, 'plus': 1,...   \n",
       "3  {'author': 1, 'halt': 1, 'oil': 2, 'export': 1...   \n",
       "4  {'tearaway': 1, 'oil': 1, 'toppl': 1, 'record'...   \n",
       "\n",
       "                                               tfidf  \n",
       "0  {'shortsel': 1.3322554201530896, 'wall': 0.576...  \n",
       "1  {'privat': 0.26507555235565955, 'invest': 0.25...  \n",
       "2  {'soar': 0.3351489679006488, 'crude': 0.281690...  \n",
       "3  {'author': 0.2317297884131842, 'halt': 0.29366...  \n",
       "4  {'tearaway': 0.653147536105157, 'oil': 0.19002...  "
      ]
     },
     "execution_count": 14,
     "metadata": {},
     "output_type": "execute_result"
    }
   ],
   "source": [
    "cutoff = n\n",
    "print(f'Cut-off TF-IDF value = {cutoff:.3f}')\n",
    "# Remove all words in tfidf column if tf-idf of word < median value\n",
    "df['tfidf'] = df['tfidf'].map(lambda x:{word:x[word] for word in x if x[word] > cutoff})\n",
    "# Remove all words in word_bag column if word is not in tfidf column\n",
    "df['word_bag'] = df[['word_bag', 'tfidf']].apply(lambda x: \n",
    "    {word:x[0][word] for word in x[0] if word in x[1].keys()}\n",
    "    , axis=1)\n",
    "df.head()"
   ]
  },
  {
   "cell_type": "markdown",
   "id": "7e3bf379-6df2-4666-be5b-fca63f444438",
   "metadata": {},
   "source": [
    "## 2.6 Tokenize words"
   ]
  },
  {
   "cell_type": "markdown",
   "id": "f4f6b23d-9d7b-4d7b-905b-04b3a2b4780e",
   "metadata": {},
   "source": [
    "Convert bag of words and tf-idf data from {'word1':2, 'word2':5} to [(1, 2), (2, 5)]"
   ]
  },
  {
   "cell_type": "code",
   "execution_count": 15,
   "id": "10737a25-26a4-49ff-98d2-2cd1677a1b30",
   "metadata": {},
   "outputs": [
    {
     "data": {
      "text/plain": [
       "['shortsel',\n",
       " 'wall',\n",
       " 'street',\n",
       " 'dwindl',\n",
       " 'band',\n",
       " 'ultracyn',\n",
       " 'see',\n",
       " 'green',\n",
       " 'privat',\n",
       " 'invest']"
      ]
     },
     "execution_count": 15,
     "metadata": {},
     "output_type": "execute_result"
    }
   ],
   "source": [
    "# Create a dictionary where each word is represent by its index\n",
    "word_dictionary = [] \n",
    "for bag in df.word_bag.values:\n",
    "    for word in bag:\n",
    "        if word not in word_dictionary:\n",
    "            word_dictionary.append(word)\n",
    "word_dictionary[:10]"
   ]
  },
  {
   "cell_type": "code",
   "execution_count": 16,
   "id": "61419700-890a-4af2-930f-c17efdd22ff9",
   "metadata": {},
   "outputs": [
    {
     "data": {
      "text/html": [
       "<div>\n",
       "<style scoped>\n",
       "    .dataframe tbody tr th:only-of-type {\n",
       "        vertical-align: middle;\n",
       "    }\n",
       "\n",
       "    .dataframe tbody tr th {\n",
       "        vertical-align: top;\n",
       "    }\n",
       "\n",
       "    .dataframe thead th {\n",
       "        text-align: right;\n",
       "    }\n",
       "</style>\n",
       "<table border=\"1\" class=\"dataframe\">\n",
       "  <thead>\n",
       "    <tr style=\"text-align: right;\">\n",
       "      <th></th>\n",
       "      <th>topic</th>\n",
       "      <th>head</th>\n",
       "      <th>body</th>\n",
       "      <th>set</th>\n",
       "      <th>word_bag</th>\n",
       "      <th>tfidf</th>\n",
       "    </tr>\n",
       "  </thead>\n",
       "  <tbody>\n",
       "    <tr>\n",
       "      <th>0</th>\n",
       "      <td>3</td>\n",
       "      <td>Wall St. Bears Claw Back Into the Black (Reuters)</td>\n",
       "      <td>Reuters - Short-sellers, Wall Street's dwindli...</td>\n",
       "      <td>1</td>\n",
       "      <td>[(0, 1), (1, 1), (2, 1), (3, 1), (4, 1), (5, 1...</td>\n",
       "      <td>[(0, 1.3322554201530896), (1, 0.57633389777230...</td>\n",
       "    </tr>\n",
       "    <tr>\n",
       "      <th>1</th>\n",
       "      <td>3</td>\n",
       "      <td>Carlyle Looks Toward Commercial Aerospace (Reu...</td>\n",
       "      <td>Reuters - Private investment firm Carlyle Grou...</td>\n",
       "      <td>1</td>\n",
       "      <td>[(8, 1), (9, 1), (10, 1), (11, 1), (12, 1), (1...</td>\n",
       "      <td>[(8, 0.26507555235565955), (9, 0.2513989320700...</td>\n",
       "    </tr>\n",
       "    <tr>\n",
       "      <th>2</th>\n",
       "      <td>3</td>\n",
       "      <td>Oil and Economy Cloud Stocks' Outlook (Reuters)</td>\n",
       "      <td>Reuters - Soaring crude prices plus worries\\ab...</td>\n",
       "      <td>1</td>\n",
       "      <td>[(25, 1), (26, 1), (27, 1), (28, 1), (29, 1), ...</td>\n",
       "      <td>[(25, 0.3351489679006488), (26, 0.281690967534...</td>\n",
       "    </tr>\n",
       "    <tr>\n",
       "      <th>3</th>\n",
       "      <td>3</td>\n",
       "      <td>Iraq Halts Oil Exports from Main Southern Pipe...</td>\n",
       "      <td>Reuters - Authorities have halted oil export\\f...</td>\n",
       "      <td>1</td>\n",
       "      <td>[(41, 1), (42, 1), (43, 2), (44, 1), (45, 1), ...</td>\n",
       "      <td>[(41, 0.2317297884131842), (42, 0.293666663070...</td>\n",
       "    </tr>\n",
       "    <tr>\n",
       "      <th>4</th>\n",
       "      <td>3</td>\n",
       "      <td>Oil prices soar to all-time record, posing new...</td>\n",
       "      <td>AFP - Tearaway world oil prices, toppling reco...</td>\n",
       "      <td>1</td>\n",
       "      <td>[(55, 1), (43, 1), (56, 1), (57, 1), (58, 1), ...</td>\n",
       "      <td>[(55, 0.653147536105157), (43, 0.1900280463206...</td>\n",
       "    </tr>\n",
       "  </tbody>\n",
       "</table>\n",
       "</div>"
      ],
      "text/plain": [
       "   topic                                               head  \\\n",
       "0      3  Wall St. Bears Claw Back Into the Black (Reuters)   \n",
       "1      3  Carlyle Looks Toward Commercial Aerospace (Reu...   \n",
       "2      3    Oil and Economy Cloud Stocks' Outlook (Reuters)   \n",
       "3      3  Iraq Halts Oil Exports from Main Southern Pipe...   \n",
       "4      3  Oil prices soar to all-time record, posing new...   \n",
       "\n",
       "                                                body  set  \\\n",
       "0  Reuters - Short-sellers, Wall Street's dwindli...    1   \n",
       "1  Reuters - Private investment firm Carlyle Grou...    1   \n",
       "2  Reuters - Soaring crude prices plus worries\\ab...    1   \n",
       "3  Reuters - Authorities have halted oil export\\f...    1   \n",
       "4  AFP - Tearaway world oil prices, toppling reco...    1   \n",
       "\n",
       "                                            word_bag  \\\n",
       "0  [(0, 1), (1, 1), (2, 1), (3, 1), (4, 1), (5, 1...   \n",
       "1  [(8, 1), (9, 1), (10, 1), (11, 1), (12, 1), (1...   \n",
       "2  [(25, 1), (26, 1), (27, 1), (28, 1), (29, 1), ...   \n",
       "3  [(41, 1), (42, 1), (43, 2), (44, 1), (45, 1), ...   \n",
       "4  [(55, 1), (43, 1), (56, 1), (57, 1), (58, 1), ...   \n",
       "\n",
       "                                               tfidf  \n",
       "0  [(0, 1.3322554201530896), (1, 0.57633389777230...  \n",
       "1  [(8, 0.26507555235565955), (9, 0.2513989320700...  \n",
       "2  [(25, 0.3351489679006488), (26, 0.281690967534...  \n",
       "3  [(41, 0.2317297884131842), (42, 0.293666663070...  \n",
       "4  [(55, 0.653147536105157), (43, 0.1900280463206...  "
      ]
     },
     "execution_count": 16,
     "metadata": {},
     "output_type": "execute_result"
    }
   ],
   "source": [
    "df['word_bag'] = df['word_bag'].map(lambda x:[(word_dictionary.index(word), x[word]) for word in x])\n",
    "df['tfidf'] = df['tfidf'].map(lambda x:[(word_dictionary.index(word), x[word]) for word in x])\n",
    "df.head()"
   ]
  },
  {
   "cell_type": "markdown",
   "id": "b02990cc-2177-4253-a579-7079440be32f",
   "metadata": {},
   "source": [
    "# 3 Latent Dirichlet Allocation"
   ]
  },
  {
   "cell_type": "markdown",
   "id": "4c24354a-7575-4fbd-b54c-23a78b022835",
   "metadata": {},
   "source": [
    "Ok.. I forgot to convert the dictionary into a format gensim can read.."
   ]
  },
  {
   "cell_type": "code",
   "execution_count": 17,
   "id": "26b359b1-ce03-4665-b200-ab29267c169d",
   "metadata": {},
   "outputs": [
    {
     "data": {
      "text/plain": [
       "57159"
      ]
     },
     "execution_count": 17,
     "metadata": {},
     "output_type": "execute_result"
    }
   ],
   "source": [
    "word_dictionary = {i:j for i, j in enumerate(word_dictionary)}\n",
    "len(word_dictionary)"
   ]
  },
  {
   "cell_type": "markdown",
   "id": "ca16fc1e-9a86-45fa-91c0-c0a1d72ab0de",
   "metadata": {},
   "source": [
    "So the cool thing about LDA is that we can not only apply to a tokenized set of documents (which is hard to model document length), we can also apply it to bag of words and even tf-idf features directly. We are going to do exactly the last two."
   ]
  },
  {
   "cell_type": "markdown",
   "id": "156e58ac-5d9d-49fb-9785-f379e12f06e9",
   "metadata": {},
   "source": [
    "## 3.1 Create LDA model for bag of words"
   ]
  },
  {
   "cell_type": "code",
   "execution_count": 18,
   "id": "0704ea20-523a-4ccb-91d8-ead27cb91323",
   "metadata": {},
   "outputs": [],
   "source": [
    "from gensim.models import LdaMulticore\n",
    "\n",
    "lda_bow = LdaMulticore(df.word_bag, num_topics = 4, id2word=word_dictionary, passes=2, workers=3)"
   ]
  },
  {
   "cell_type": "code",
   "execution_count": 19,
   "id": "e4bde954-84ce-4ea4-a32b-1ca90a14e993",
   "metadata": {},
   "outputs": [
    {
     "name": "stdout",
     "output_type": "stream",
     "text": [
      "Topic (By LDA): 0 \n",
      "Key Words: 0.004*\"coach\" + 0.004*\"point\" + 0.003*\"score\" + 0.003*\"footbal\" + 0.003*\"team\" + 0.003*\"win\" + 0.003*\"elect\" + 0.003*\"presid\" + 0.003*\"leagu\" + 0.003*\"cup\"\n",
      "Topic (By LDA): 1 \n",
      "Key Words: 0.004*\"baghdad\" + 0.004*\"quarter\" + 0.003*\"sale\" + 0.003*\"red\" + 0.003*\"drug\" + 0.003*\"game\" + 0.003*\"iraqi\" + 0.003*\"percent\" + 0.003*\"iraq\" + 0.003*\"retail\"\n",
      "Topic (By LDA): 2 \n",
      "Key Words: 0.006*\"oil\" + 0.005*\"palestinian\" + 0.004*\"space\" + 0.004*\"polic\" + 0.004*\"music\" + 0.003*\"isra\" + 0.003*\"kill\" + 0.003*\"china\" + 0.003*\"arafat\" + 0.003*\"gaza\"\n",
      "Topic (By LDA): 3 \n",
      "Key Words: 0.004*\"microsoft\" + 0.004*\"softwar\" + 0.004*\"search\" + 0.004*\"servic\" + 0.004*\"billion\" + 0.003*\"comput\" + 0.003*\"internet\" + 0.003*\"mobil\" + 0.003*\"phone\" + 0.003*\"compani\"\n"
     ]
    }
   ],
   "source": [
    "for id, topic in lda_bow.print_topics(-1):\n",
    "    print(f'Topic (By LDA): {id} \\nKey Words: {topic}')"
   ]
  },
  {
   "cell_type": "markdown",
   "id": "f9dbe47e-ae8b-4db2-a6ff-933dcef6702e",
   "metadata": {},
   "source": [
    "Judging from the keywords, we can guess (Order may change as notebook re-runs):\n",
    "<br>Topic 0 = Sports\n",
    "<br>Topic 1 = Business\n",
    "<br>Topic 2 = World\n",
    "<br>Topic 3 = Sci/Tech"
   ]
  },
  {
   "cell_type": "code",
   "execution_count": 20,
   "id": "75f964a8-1fd8-4046-85a8-9752390228a4",
   "metadata": {},
   "outputs": [],
   "source": [
    "lda_tfidf = LdaMulticore(df.tfidf, num_topics = 4, id2word=word_dictionary, passes=2, workers=3)"
   ]
  },
  {
   "cell_type": "code",
   "execution_count": 21,
   "id": "4b8404f8-c252-4b15-91ae-cf50607b33f8",
   "metadata": {},
   "outputs": [
    {
     "name": "stdout",
     "output_type": "stream",
     "text": [
      "Topic (By LDA): 0 \n",
      "Key Words: 0.003*\"microsoft\" + 0.003*\"softwar\" + 0.002*\"comput\" + 0.002*\"phone\" + 0.002*\"mobil\" + 0.002*\"internet\" + 0.002*\"search\" + 0.002*\"wireless\" + 0.002*\"servic\" + 0.002*\"technolog\"\n",
      "Topic (By LDA): 1 \n",
      "Key Words: 0.003*\"point\" + 0.002*\"score\" + 0.002*\"coach\" + 0.002*\"cup\" + 0.002*\"team\" + 0.002*\"game\" + 0.002*\"champion\" + 0.002*\"footbal\" + 0.002*\"win\" + 0.002*\"season\"\n",
      "Topic (By LDA): 2 \n",
      "Key Words: 0.003*\"palestinian\" + 0.003*\"polic\" + 0.002*\"kill\" + 0.002*\"iraqi\" + 0.002*\"baghdad\" + 0.002*\"arafat\" + 0.002*\"iraq\" + 0.002*\"militari\" + 0.002*\"troop\" + 0.002*\"un\"\n",
      "Topic (By LDA): 3 \n",
      "Key Words: 0.002*\"union\" + 0.002*\"airlin\" + 0.002*\"european\" + 0.002*\"peoplesoft\" + 0.002*\"oracl\" + 0.002*\"nuclear\" + 0.002*\"iran\" + 0.002*\"oil\" + 0.001*\"bid\" + 0.001*\"court\"\n"
     ]
    }
   ],
   "source": [
    "for id, topic in lda_tfidf.print_topics(-1):\n",
    "    print(f'Topic (By LDA): {id} \\nKey Words: {topic}')"
   ]
  },
  {
   "cell_type": "markdown",
   "id": "7e35febb-44fb-4378-be04-6bd4cc4dc74e",
   "metadata": {},
   "source": [
    "Judging from the keywords, we can guess (Order may change as notebook re-runs):\n",
    "<br>Topic 0 = Sci/Tech\n",
    "<br>Topic 1 = Sports\n",
    "<br>Topic 2 = World\n",
    "<br>Topic 3 = Business"
   ]
  },
  {
   "cell_type": "markdown",
   "id": "58ecda84-ee83-4e46-97ac-916b31b80f24",
   "metadata": {},
   "source": [
    "## 3.2 Estimate LDA topics based on label frequency"
   ]
  },
  {
   "cell_type": "markdown",
   "id": "426d010c-14ab-495f-a6fa-00193f366e6d",
   "metadata": {},
   "source": [
    "Guessing from the key words is good if you actually know the meaning of each word. \n",
    "\n",
    "Now imagine you are a five-year old child who cannot understand big words like \"business\" or \"sports,\" then, like any clueless five-year old child, you have to look at the distribution of the predicted topics against the labelled topics and find the most statisically probable label for each estimated topic."
   ]
  },
  {
   "cell_type": "code",
   "execution_count": 28,
   "id": "1d730d9f-3782-49d7-a88b-98c4b697c2ea",
   "metadata": {},
   "outputs": [],
   "source": [
    "def get_topic(model, words):\n",
    "    itr = model[words]\n",
    "    i = 0\n",
    "    arg = 0\n",
    "    mx = 0 # assume all values > 0 \n",
    "    while i < len(itr):\n",
    "        if itr[i][1] > mx:\n",
    "            mx = itr[i][1]\n",
    "            arg = i\n",
    "        i += 1\n",
    "    return arg"
   ]
  },
  {
   "cell_type": "code",
   "execution_count": 29,
   "id": "403b1dc5-7b7e-497d-a1b1-99e6e97752b5",
   "metadata": {},
   "outputs": [],
   "source": [
    "df['bow_pred'] = df.word_bag.map(lambda x: get_topic(lda_bow, x))\n",
    "df['tfidf_pred'] = df.word_bag.map(lambda x: get_topic(lda_tfidf, x))"
   ]
  },
  {
   "cell_type": "code",
   "execution_count": 30,
   "id": "6b8b674d-b6f1-4f4a-94e3-69da49328730",
   "metadata": {},
   "outputs": [
    {
     "data": {
      "text/html": [
       "<div>\n",
       "<style scoped>\n",
       "    .dataframe tbody tr th:only-of-type {\n",
       "        vertical-align: middle;\n",
       "    }\n",
       "\n",
       "    .dataframe tbody tr th {\n",
       "        vertical-align: top;\n",
       "    }\n",
       "\n",
       "    .dataframe thead th {\n",
       "        text-align: right;\n",
       "    }\n",
       "</style>\n",
       "<table border=\"1\" class=\"dataframe\">\n",
       "  <thead>\n",
       "    <tr style=\"text-align: right;\">\n",
       "      <th></th>\n",
       "      <th>topic</th>\n",
       "      <th>head</th>\n",
       "      <th>body</th>\n",
       "      <th>set</th>\n",
       "      <th>word_bag</th>\n",
       "      <th>tfidf</th>\n",
       "      <th>bow_pred</th>\n",
       "      <th>tfidf_pred</th>\n",
       "    </tr>\n",
       "  </thead>\n",
       "  <tbody>\n",
       "    <tr>\n",
       "      <th>0</th>\n",
       "      <td>3</td>\n",
       "      <td>Wall St. Bears Claw Back Into the Black (Reuters)</td>\n",
       "      <td>Reuters - Short-sellers, Wall Street's dwindli...</td>\n",
       "      <td>1</td>\n",
       "      <td>[(0, 1), (1, 1), (2, 1), (3, 1), (4, 1), (5, 1...</td>\n",
       "      <td>[(0, 1.3322554201530896), (1, 0.57633389777230...</td>\n",
       "      <td>2</td>\n",
       "      <td>3</td>\n",
       "    </tr>\n",
       "    <tr>\n",
       "      <th>1</th>\n",
       "      <td>3</td>\n",
       "      <td>Carlyle Looks Toward Commercial Aerospace (Reu...</td>\n",
       "      <td>Reuters - Private investment firm Carlyle Grou...</td>\n",
       "      <td>1</td>\n",
       "      <td>[(8, 1), (9, 1), (10, 1), (11, 1), (12, 1), (1...</td>\n",
       "      <td>[(8, 0.26507555235565955), (9, 0.2513989320700...</td>\n",
       "      <td>3</td>\n",
       "      <td>3</td>\n",
       "    </tr>\n",
       "    <tr>\n",
       "      <th>2</th>\n",
       "      <td>3</td>\n",
       "      <td>Oil and Economy Cloud Stocks' Outlook (Reuters)</td>\n",
       "      <td>Reuters - Soaring crude prices plus worries\\ab...</td>\n",
       "      <td>1</td>\n",
       "      <td>[(25, 1), (26, 1), (27, 1), (28, 1), (29, 1), ...</td>\n",
       "      <td>[(25, 0.3351489679006488), (26, 0.281690967534...</td>\n",
       "      <td>1</td>\n",
       "      <td>0</td>\n",
       "    </tr>\n",
       "    <tr>\n",
       "      <th>3</th>\n",
       "      <td>3</td>\n",
       "      <td>Iraq Halts Oil Exports from Main Southern Pipe...</td>\n",
       "      <td>Reuters - Authorities have halted oil export\\f...</td>\n",
       "      <td>1</td>\n",
       "      <td>[(41, 1), (42, 1), (43, 2), (44, 1), (45, 1), ...</td>\n",
       "      <td>[(41, 0.2317297884131842), (42, 0.293666663070...</td>\n",
       "      <td>2</td>\n",
       "      <td>2</td>\n",
       "    </tr>\n",
       "    <tr>\n",
       "      <th>4</th>\n",
       "      <td>3</td>\n",
       "      <td>Oil prices soar to all-time record, posing new...</td>\n",
       "      <td>AFP - Tearaway world oil prices, toppling reco...</td>\n",
       "      <td>1</td>\n",
       "      <td>[(55, 1), (43, 1), (56, 1), (57, 1), (58, 1), ...</td>\n",
       "      <td>[(55, 0.653147536105157), (43, 0.1900280463206...</td>\n",
       "      <td>0</td>\n",
       "      <td>2</td>\n",
       "    </tr>\n",
       "  </tbody>\n",
       "</table>\n",
       "</div>"
      ],
      "text/plain": [
       "   topic                                               head  \\\n",
       "0      3  Wall St. Bears Claw Back Into the Black (Reuters)   \n",
       "1      3  Carlyle Looks Toward Commercial Aerospace (Reu...   \n",
       "2      3    Oil and Economy Cloud Stocks' Outlook (Reuters)   \n",
       "3      3  Iraq Halts Oil Exports from Main Southern Pipe...   \n",
       "4      3  Oil prices soar to all-time record, posing new...   \n",
       "\n",
       "                                                body  set  \\\n",
       "0  Reuters - Short-sellers, Wall Street's dwindli...    1   \n",
       "1  Reuters - Private investment firm Carlyle Grou...    1   \n",
       "2  Reuters - Soaring crude prices plus worries\\ab...    1   \n",
       "3  Reuters - Authorities have halted oil export\\f...    1   \n",
       "4  AFP - Tearaway world oil prices, toppling reco...    1   \n",
       "\n",
       "                                            word_bag  \\\n",
       "0  [(0, 1), (1, 1), (2, 1), (3, 1), (4, 1), (5, 1...   \n",
       "1  [(8, 1), (9, 1), (10, 1), (11, 1), (12, 1), (1...   \n",
       "2  [(25, 1), (26, 1), (27, 1), (28, 1), (29, 1), ...   \n",
       "3  [(41, 1), (42, 1), (43, 2), (44, 1), (45, 1), ...   \n",
       "4  [(55, 1), (43, 1), (56, 1), (57, 1), (58, 1), ...   \n",
       "\n",
       "                                               tfidf  bow_pred  tfidf_pred  \n",
       "0  [(0, 1.3322554201530896), (1, 0.57633389777230...         2           3  \n",
       "1  [(8, 0.26507555235565955), (9, 0.2513989320700...         3           3  \n",
       "2  [(25, 0.3351489679006488), (26, 0.281690967534...         1           0  \n",
       "3  [(41, 0.2317297884131842), (42, 0.293666663070...         2           2  \n",
       "4  [(55, 0.653147536105157), (43, 0.1900280463206...         0           2  "
      ]
     },
     "execution_count": 30,
     "metadata": {},
     "output_type": "execute_result"
    }
   ],
   "source": [
    "df.head()"
   ]
  },
  {
   "cell_type": "code",
   "execution_count": 53,
   "id": "edb52857-39c4-445d-8f99-65a1b831b9f7",
   "metadata": {},
   "outputs": [],
   "source": [
    "name_mapping = {1:'World', 2:'Sports', 3:'Business', 4:'Sci/Tech'}\n",
    "def match_label(original_topic, predicted_topic, name_mapping):\n",
    "    match_matrix = {}\n",
    "    for i in range(len(original_topic)):\n",
    "        label = original_topic[i]\n",
    "        pred = predicted_topic[i]\n",
    "        if label not in match_matrix:\n",
    "            match_matrix[label] = np.zeros(4)\n",
    "        match_matrix[label][pred] += 1\n",
    "    match_matrix = pd.DataFrame(match_matrix).rename(mapper=name_mapping, axis=1)\n",
    "    \n",
    "    cols = match_matrix.columns\n",
    "    match_matrix[cols] = match_matrix[cols].div(match_matrix[cols].sum(axis=1), axis=0)\n",
    "    return match_matrix"
   ]
  },
  {
   "cell_type": "code",
   "execution_count": 54,
   "id": "272cd89f-d26b-4919-9243-0756956bb35a",
   "metadata": {},
   "outputs": [
    {
     "data": {
      "image/png": "[encoded data removed]",
      "text/plain": [
       "<Figure size 432x288 with 2 Axes>"
      ]
     },
     "metadata": {
      "needs_background": "light"
     },
     "output_type": "display_data"
    }
   ],
   "source": [
    "import seaborn as sns\n",
    "bow_labels = match_label(df.topic.values, df.bow_pred.values, name_mapping)\n",
    "sns.heatmap(bow_labels, cmap='Greens')\n",
    "plt.title('Most probable topics for each BoW prediction')\n",
    "plt.show()"
   ]
  },
  {
   "cell_type": "code",
   "execution_count": 55,
   "id": "00f699d9-e03b-43b9-8b3a-be7e4ad63e79",
   "metadata": {},
   "outputs": [
    {
     "name": "stdout",
     "output_type": "stream",
     "text": [
      "Topic 0: Sports with accuracy 0.638\n",
      "Topic 1: Business with accuracy 0.435\n",
      "Topic 2: World with accuracy 0.515\n",
      "Topic 3: Sci/Tech with accuracy 0.522\n"
     ]
    }
   ],
   "source": [
    "bow_mapping = {}\n",
    "for idx, row in enumerate(bow_labels.values):\n",
    "    print(f'Topic {idx}: {bow_labels.columns[row.argmax()]} with accuracy {row.max():.3f}')\n",
    "    bow_mapping[idx] = bow_labels.columns[row.argmax()]"
   ]
  },
  {
   "cell_type": "code",
   "execution_count": 56,
   "id": "236de93a-3edd-400e-b5aa-7a6ce3fe294d",
   "metadata": {},
   "outputs": [
    {
     "data": {
      "image/png": "[encoded data removed]",
      "text/plain": [
       "<Figure size 432x288 with 2 Axes>"
      ]
     },
     "metadata": {
      "needs_background": "light"
     },
     "output_type": "display_data"
    }
   ],
   "source": [
    "tfidf_labels = match_label(df.topic.values, df.tfidf_pred.values, name_mapping)\n",
    "sns.heatmap(tfidf_labels, cmap='Greens')\n",
    "plt.title('Most probable topics for each TF-TDF prediction')\n",
    "plt.show()"
   ]
  },
  {
   "cell_type": "code",
   "execution_count": 57,
   "id": "f1171925-4237-4f0c-9d33-1108834b7bf8",
   "metadata": {},
   "outputs": [
    {
     "name": "stdout",
     "output_type": "stream",
     "text": [
      "Topic 0: Sci/Tech with accuracy 0.515\n",
      "Topic 1: Sports with accuracy 0.786\n",
      "Topic 2: World with accuracy 0.745\n",
      "Topic 3: Business with accuracy 0.417\n"
     ]
    }
   ],
   "source": [
    "tfidf_mapping = {}\n",
    "for idx, row in enumerate(tfidf_labels.values):\n",
    "    print(f'Topic {idx}: {tfidf_labels.columns[row.argmax()]} with accuracy {row.max():.3f}')\n",
    "    tfidf_mapping[idx] = bow_labels.columns[row.argmax()]"
   ]
  },
  {
   "cell_type": "markdown",
   "id": "ea5c5022-8c13-4802-aaa6-bb36702465f4",
   "metadata": {},
   "source": [
    "It's good to see that the numbers match exactly what we have intuitively guessed what each topic labeled by LDA mean, although the accuracy in each class is quite bad."
   ]
  },
  {
   "cell_type": "markdown",
   "id": "f63f6db5-ca8d-4284-8cd0-8682bf985aa0",
   "metadata": {},
   "source": [
    "## 3.3 Evaluation"
   ]
  },
  {
   "cell_type": "code",
   "execution_count": null,
   "id": "3a487b84-9318-4a94-b725-88ed9e1c192a",
   "metadata": {},
   "outputs": [],
   "source": [
    "df['topic'] = df['topic'].map(name_mapping)\n",
    "df['bow_pred'] = df['bow_pred'].map(bow_mapping)\n",
    "df['tfidf_pred'] = df['tfidf_pred'].map(tfidf_mapping)"
   ]
  },
  {
   "cell_type": "code",
   "execution_count": 65,
   "id": "26f260e1-d414-46ea-9030-dc1cd78149e0",
   "metadata": {},
   "outputs": [
    {
     "data": {
      "text/html": [
       "<div>\n",
       "<style scoped>\n",
       "    .dataframe tbody tr th:only-of-type {\n",
       "        vertical-align: middle;\n",
       "    }\n",
       "\n",
       "    .dataframe tbody tr th {\n",
       "        vertical-align: top;\n",
       "    }\n",
       "\n",
       "    .dataframe thead th {\n",
       "        text-align: right;\n",
       "    }\n",
       "</style>\n",
       "<table border=\"1\" class=\"dataframe\">\n",
       "  <thead>\n",
       "    <tr style=\"text-align: right;\">\n",
       "      <th></th>\n",
       "      <th>topic</th>\n",
       "      <th>bow_pred</th>\n",
       "      <th>tfidf_pred</th>\n",
       "    </tr>\n",
       "  </thead>\n",
       "  <tbody>\n",
       "    <tr>\n",
       "      <th>0</th>\n",
       "      <td>Business</td>\n",
       "      <td>World</td>\n",
       "      <td>Business</td>\n",
       "    </tr>\n",
       "    <tr>\n",
       "      <th>1</th>\n",
       "      <td>Business</td>\n",
       "      <td>Sci/Tech</td>\n",
       "      <td>Business</td>\n",
       "    </tr>\n",
       "    <tr>\n",
       "      <th>2</th>\n",
       "      <td>Business</td>\n",
       "      <td>Business</td>\n",
       "      <td>Sci/Tech</td>\n",
       "    </tr>\n",
       "    <tr>\n",
       "      <th>3</th>\n",
       "      <td>Business</td>\n",
       "      <td>World</td>\n",
       "      <td>World</td>\n",
       "    </tr>\n",
       "    <tr>\n",
       "      <th>4</th>\n",
       "      <td>Business</td>\n",
       "      <td>Sports</td>\n",
       "      <td>World</td>\n",
       "    </tr>\n",
       "    <tr>\n",
       "      <th>...</th>\n",
       "      <td>...</td>\n",
       "      <td>...</td>\n",
       "      <td>...</td>\n",
       "    </tr>\n",
       "    <tr>\n",
       "      <th>7595</th>\n",
       "      <td>World</td>\n",
       "      <td>World</td>\n",
       "      <td>World</td>\n",
       "    </tr>\n",
       "    <tr>\n",
       "      <th>7596</th>\n",
       "      <td>Sports</td>\n",
       "      <td>Business</td>\n",
       "      <td>Business</td>\n",
       "    </tr>\n",
       "    <tr>\n",
       "      <th>7597</th>\n",
       "      <td>Sports</td>\n",
       "      <td>Business</td>\n",
       "      <td>Sports</td>\n",
       "    </tr>\n",
       "    <tr>\n",
       "      <th>7598</th>\n",
       "      <td>Business</td>\n",
       "      <td>Business</td>\n",
       "      <td>Business</td>\n",
       "    </tr>\n",
       "    <tr>\n",
       "      <th>7599</th>\n",
       "      <td>Business</td>\n",
       "      <td>Sci/Tech</td>\n",
       "      <td>Sci/Tech</td>\n",
       "    </tr>\n",
       "  </tbody>\n",
       "</table>\n",
       "<p>127600 rows × 3 columns</p>\n",
       "</div>"
      ],
      "text/plain": [
       "         topic  bow_pred tfidf_pred\n",
       "0     Business     World   Business\n",
       "1     Business  Sci/Tech   Business\n",
       "2     Business  Business   Sci/Tech\n",
       "3     Business     World      World\n",
       "4     Business    Sports      World\n",
       "...        ...       ...        ...\n",
       "7595     World     World      World\n",
       "7596    Sports  Business   Business\n",
       "7597    Sports  Business     Sports\n",
       "7598  Business  Business   Business\n",
       "7599  Business  Sci/Tech   Sci/Tech\n",
       "\n",
       "[127600 rows x 3 columns]"
      ]
     },
     "execution_count": 65,
     "metadata": {},
     "output_type": "execute_result"
    }
   ],
   "source": [
    "df[['topic', 'bow_pred' ,'tfidf_pred']]"
   ]
  },
  {
   "cell_type": "code",
   "execution_count": 70,
   "id": "980c7e30-2172-428c-98df-c7f043b021d8",
   "metadata": {},
   "outputs": [
    {
     "name": "stdout",
     "output_type": "stream",
     "text": [
      "Accuracy for BoW LDA model: 0.536\n",
      "Accuracy for TF-IDF LDA model: 0.613\n"
     ]
    }
   ],
   "source": [
    "bow_acc = sum([1 if x[0]==x[1] else 0 for x in df[['topic', 'bow_pred']].values])/len(df)\n",
    "tfidf_acc = sum([1 if x[0]==x[1] else 0 for x in df[['topic', 'tfidf_pred']].values])/len(df)\n",
    "print(f'Accuracy for BoW LDA model: {bow_acc:.3f}')\n",
    "print(f'Accuracy for TF-IDF LDA model: {tfidf_acc:.3f}')"
   ]
  },
  {
   "cell_type": "markdown",
   "id": "c422bd74-839d-41ea-9c85-781e9f5a7a11",
   "metadata": {},
   "source": [
    "It's not amazing compared to using CNN on an embedded set of words, but it's doing pretty well considering that LDA has no idea what each word or even each topic means. It is clustering based on words distribution alone which is pretty cool. <br>\n",
    "There are some cool new things these days like lda2vec that does lda using pre-trained embedded vectors, maybe I'll look into that next."
   ]
  },
  {
   "cell_type": "code",
   "execution_count": null,
   "id": "f17acf73-018b-4030-b15e-054b22cd0aeb",
   "metadata": {},
   "outputs": [],
   "source": []
  }
 ],
 "metadata": {
  "kernelspec": {
   "display_name": "Python 3 (ipykernel)",
   "language": "python",
   "name": "python3"
  },
  "language_info": {
   "codemirror_mode": {
    "name": "ipython",
    "version": 3
   },
   "file_extension": ".py",
   "mimetype": "text/x-python",
   "name": "python",
   "nbconvert_exporter": "python",
   "pygments_lexer": "ipython3",
   "version": "3.9.7"
  }
 },
 "nbformat": 4,
 "nbformat_minor": 5
}
